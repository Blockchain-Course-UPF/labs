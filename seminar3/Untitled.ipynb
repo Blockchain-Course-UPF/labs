{
 "cells": [
  {
   "cell_type": "code",
   "execution_count": 1,
   "id": "a683a883",
   "metadata": {},
   "outputs": [
    {
     "ename": "ModuleNotFoundError",
     "evalue": "No module named 'uniswap'",
     "output_type": "error",
     "traceback": [
      "\u001b[0;31m---------------------------------------------------------------------------\u001b[0m",
      "\u001b[0;31mModuleNotFoundError\u001b[0m                       Traceback (most recent call last)",
      "\u001b[0;32m/tmp/ipykernel_17469/45564312.py\u001b[0m in \u001b[0;36m<module>\u001b[0;34m\u001b[0m\n\u001b[1;32m      2\u001b[0m \u001b[0;32mimport\u001b[0m \u001b[0mjson\u001b[0m\u001b[0;34m\u001b[0m\u001b[0;34m\u001b[0m\u001b[0m\n\u001b[1;32m      3\u001b[0m \u001b[0;32mfrom\u001b[0m \u001b[0mweb3\u001b[0m \u001b[0;32mimport\u001b[0m \u001b[0mWeb3\u001b[0m\u001b[0;34m\u001b[0m\u001b[0;34m\u001b[0m\u001b[0m\n\u001b[0;32m----> 4\u001b[0;31m \u001b[0;32mfrom\u001b[0m \u001b[0muniswap\u001b[0m \u001b[0;32mimport\u001b[0m \u001b[0mUniswapV2Client\u001b[0m\u001b[0;34m\u001b[0m\u001b[0;34m\u001b[0m\u001b[0m\n\u001b[0m\u001b[1;32m      5\u001b[0m \u001b[0;34m\u001b[0m\u001b[0m\n\u001b[1;32m      6\u001b[0m \u001b[0;32mdef\u001b[0m \u001b[0mmain\u001b[0m\u001b[0;34m(\u001b[0m\u001b[0;34m)\u001b[0m\u001b[0;34m:\u001b[0m\u001b[0;34m\u001b[0m\u001b[0;34m\u001b[0m\u001b[0m\n",
      "\u001b[0;31mModuleNotFoundError\u001b[0m: No module named 'uniswap'"
     ]
    }
   ],
   "source": [
    "from brownie import *\n",
    "import json\n",
    "from web3 import Web3\n",
    "from uniswap import UniswapV2Client\n",
    "\n",
    "def main():\n",
    "    # Load your Ethereum private key\n",
    "    with open(\"private_key.json\", \"r\") as f:\n",
    "        private_key_data = json.load(f)\n",
    "        private_key = private_key_data['private_key']\n",
    "\n",
    "    # Connect to Ethereum network\n",
    "    network.connect('mainnet')\n",
    "\n",
    "    # Load your account\n",
    "    user = accounts.add(private_key)\n",
    "\n",
    "    # Uniswap V2 Factory contract address\n",
    "    uniswap_v2_factory_address = \"0x5C69bEe701ef814a2B6a3EDD4B1652CB9cc5aA6f\"\n",
    "\n",
    "    # Token addresses for the pair\n",
    "    token1_address = \"0x6B175474E89094C44Da98b954EedeAC495271d0F\"  # DAI\n",
    "    token2_address = \"0xC02aaA39b223FE8D0A0e5C4F27eAD9083C756Cc2\"  # WETH\n",
    "\n",
    "    # Initialize Uniswap V2 Client\n",
    "    uniswap_client = UniswapV2Client(user.address, private_key, Web3.HTTPProvider(network.show_active()['host']), uniswap_v2_factory_address)\n",
    "\n",
    "    # Fetch the pool address\n",
    "    pool_address = uniswap_client.get_pair_address(token1_address, token2_address)\n",
    "    print(f\"Pool address: {pool_address}\")\n",
    "\n",
    "    # Compute the price\n",
    "    price = uniswap_client.get_token_price(token1_address, token2_address)\n",
    "    print(f\"Price: 1 DAI = {price} WETH\")\n"
   ]
  },
  {
   "cell_type": "code",
   "execution_count": null,
   "id": "7bbe3861",
   "metadata": {},
   "outputs": [],
   "source": []
  }
 ],
 "metadata": {
  "kernelspec": {
   "display_name": "Python 3 (ipykernel)",
   "language": "python",
   "name": "python3"
  },
  "language_info": {
   "codemirror_mode": {
    "name": "ipython",
    "version": 3
   },
   "file_extension": ".py",
   "mimetype": "text/x-python",
   "name": "python",
   "nbconvert_exporter": "python",
   "pygments_lexer": "ipython3",
   "version": "3.10.6"
  }
 },
 "nbformat": 4,
 "nbformat_minor": 5
}
