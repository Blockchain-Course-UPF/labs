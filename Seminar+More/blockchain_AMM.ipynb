{
 "cells": [
  {
   "cell_type": "markdown",
   "metadata": {},
   "source": [
    "Names:\n",
    "* Eric Gallego (NIA: 240028)\n",
    "* Sergi Vila (NIA: 241626)\n",
    "* Sergi Hernández (NIA: 242330)\n",
    "* Xavi Marzo (NIA: 240134)"
   ]
  },
  {
   "cell_type": "code",
   "execution_count": 174,
   "metadata": {},
   "outputs": [],
   "source": [
    "class CFMM:\n",
    "    def __init__(self, R0, R1):\n",
    "        self.R0 = R0\n",
    "        self.R1 = R1\n",
    "        self.p0 = R1/R0\n",
    "        self.p1 = R0/R1\n",
    "        \n",
    "    def swap_x_for_y(self, delta_x):\n",
    "        delta_y = self.R1 - (self.R0*self.R1)/(self.R0+delta_x)\n",
    "        \n",
    "        self.R0 += delta_x\n",
    "        self.R1 -= delta_y\n",
    "        \n",
    "        self.p0 = self.R1/self.R0\n",
    "        self.p1 = self.R0/self.R1\n",
    "        \n",
    "        return delta_y\n",
    "    \n",
    "    def swap_y_for_x(self, delta_y):\n",
    "        delta_x = self.R0 - (self.R0*self.R1)/(self.R1+delta_y)\n",
    "        \n",
    "        self.R0 -= delta_x\n",
    "        self.R1 += delta_y\n",
    "        \n",
    "        self.p0 = self.R1/self.R0\n",
    "        self.p1 = self.R0/self.R1\n",
    "        \n",
    "        return delta_x\n",
    "    \n",
    "    def simulate_swap_x_for_y(self, delta_x):\n",
    "        delta_y = self.R1 - (self.R0*self.R1)/(self.R0+delta_x)\n",
    "        return delta_y"
   ]
  },
  {
   "cell_type": "code",
   "execution_count": 175,
   "metadata": {},
   "outputs": [],
   "source": [
    "R0 = 1686 #eur\n",
    "R1 = 1 #eth\n",
    "\n",
    "cfmm = CFMM(R0, R1) # 100 euros # 100 eth"
   ]
  },
  {
   "cell_type": "code",
   "execution_count": 176,
   "metadata": {},
   "outputs": [
    {
     "name": "stdout",
     "output_type": "stream",
     "text": [
      "Current price of eth: 1686.0 eur/eth\n"
     ]
    }
   ],
   "source": [
    "print(\"Current price of eth:\", cfmm.p1, \"eur/eth\")"
   ]
  },
  {
   "cell_type": "code",
   "execution_count": 177,
   "metadata": {},
   "outputs": [
    {
     "data": {
      "text/plain": [
       "0.0005927682276229973"
      ]
     },
     "execution_count": 177,
     "metadata": {},
     "output_type": "execute_result"
    }
   ],
   "source": [
    "cfmm.swap_x_for_y(1) # et dono 1 euro quants ethers em dones?"
   ]
  },
  {
   "cell_type": "code",
   "execution_count": 178,
   "metadata": {},
   "outputs": [
    {
     "name": "stdout",
     "output_type": "stream",
     "text": [
      "Current price of eth: 1688.0005931198102 eur/eth\n"
     ]
    }
   ],
   "source": [
    "print(\"Current price of eth:\", cfmm.p1, \"eur/eth\")"
   ]
  },
  {
   "cell_type": "code",
   "execution_count": 179,
   "metadata": {},
   "outputs": [
    {
     "data": {
      "image/png": "[encoded data removed]",
      "text/plain": [
       "<Figure size 432x288 with 1 Axes>"
      ]
     },
     "metadata": {
      "needs_background": "light"
     },
     "output_type": "display_data"
    }
   ],
   "source": [
    "import matplotlib.pyplot as plt\n",
    "\n",
    "plt.plot([cfmm.simulate_swap_x_for_y(x)/x for x in range(1, 10000)])\n",
    "plt.show()"
   ]
  },
  {
   "cell_type": "code",
   "execution_count": 180,
   "metadata": {},
   "outputs": [
    {
     "data": {
      "text/plain": [
       "0.371941656781681"
      ]
     },
     "execution_count": 180,
     "metadata": {},
     "output_type": "execute_result"
    }
   ],
   "source": [
    "cfmm.swap_x_for_y(1000) # et dono 1 euro quants ethers em dones?"
   ]
  },
  {
   "cell_type": "code",
   "execution_count": 182,
   "metadata": {},
   "outputs": [
    {
     "name": "stdout",
     "output_type": "stream",
     "text": [
      "Current price of eth: 4282.306642941874 eur/eth\n"
     ]
    }
   ],
   "source": [
    "print(\"Current price of eth:\", cfmm.p1, \"eur/eth\") # Amb aquest trade hem canviat tant les reserves que em canviat el preu"
   ]
  },
  {
   "cell_type": "code",
   "execution_count": null,
   "metadata": {},
   "outputs": [],
   "source": []
  }
 ],
 "metadata": {
  "kernelspec": {
   "display_name": "Python 3",
   "language": "python",
   "name": "python3"
  },
  "language_info": {
   "codemirror_mode": {
    "name": "ipython",
    "version": 3
   },
   "file_extension": ".py",
   "mimetype": "text/x-python",
   "name": "python",
   "nbconvert_exporter": "python",
   "pygments_lexer": "ipython3",
   "version": "3.8.5"
  }
 },
 "nbformat": 4,
 "nbformat_minor": 4
}
